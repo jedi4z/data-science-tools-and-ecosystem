{
 "cells": [
  {
   "cell_type": "markdown",
   "id": "d609f0a0-3ea3-4861-a458-1529dfa26a56",
   "metadata": {
    "tags": []
   },
   "source": [
    "# Data Science Tools and Ecosystem"
   ]
  },
  {
   "cell_type": "markdown",
   "id": "e9c8734a-4342-4472-9665-38f7e93f0cf0",
   "metadata": {
    "tags": []
   },
   "source": [
    "\n",
    "In this notebook, Data Science Tools and Ecosystem are summarized."
   ]
  },
  {
   "cell_type": "markdown",
   "id": "b4194eec-f2d9-4e33-92b6-081ecc14a9f7",
   "metadata": {
    "tags": []
   },
   "source": [
    "Objectives:"
   ]
  },
  {
   "cell_type": "markdown",
   "id": "8bd9d9fb-8863-43d7-b377-8673b52cc203",
   "metadata": {},
   "source": [
    "* List popular languages used in data science\n",
    "* List popular libraries used in data science\n",
    "* Show case how to execute python code in a Jupyter notebook"
   ]
  },
  {
   "cell_type": "markdown",
   "id": "dfbb73bf-80c2-4403-9e45-b4d935bea340",
   "metadata": {},
   "source": [
    "Some of the popular languages that Data Scientists use are:"
   ]
  },
  {
   "cell_type": "markdown",
   "id": "88472032-51c8-437c-b544-aa348447eed0",
   "metadata": {
    "tags": []
   },
   "source": [
    "* Python\n",
    "* Scala\n",
    "* R"
   ]
  },
  {
   "cell_type": "markdown",
   "id": "8a771c43-f624-47db-ae53-3c7fccb1345e",
   "metadata": {},
   "source": [
    "Some of the commonly used libraries used by Data Scientists include:"
   ]
  },
  {
   "cell_type": "markdown",
   "id": "af19a611-4385-46b6-a51e-b6b1b4238d0e",
   "metadata": {},
   "source": [
    "* numpy\n",
    "* pandas\n",
    "* scipy"
   ]
  },
  {
   "cell_type": "markdown",
   "id": "c0d860e8-65d4-421f-8418-4e05b222f8bd",
   "metadata": {
    "tags": []
   },
   "source": [
    "| Data Science Tools |\n",
    "| ------------------ |\n",
    "| RStudio |\n",
    "| Jupyter Notebook |\n",
    "| Spider |"
   ]
  },
  {
   "cell_type": "markdown",
   "id": "6c65e6bd-5fe6-4dde-9352-e964ddd28cfe",
   "metadata": {
    "tags": []
   },
   "source": [
    "### Below are a few examples of evaluating arithmetic expressions in Python"
   ]
  },
  {
   "cell_type": "code",
   "execution_count": 6,
   "id": "a653fe58-802f-4181-aae4-1b6c4d4ae2f6",
   "metadata": {
    "tags": []
   },
   "outputs": [
    {
     "data": {
      "text/plain": [
       "17"
      ]
     },
     "execution_count": 6,
     "metadata": {},
     "output_type": "execute_result"
    }
   ],
   "source": [
    "# This a simple arithmetic expression to mutiply then add integers\n",
    "(3*4)+5"
   ]
  },
  {
   "cell_type": "code",
   "execution_count": 7,
   "id": "7abf3053-bb6e-404b-a9c2-5ba57ab96e59",
   "metadata": {
    "tags": []
   },
   "outputs": [
    {
     "data": {
      "text/plain": [
       "3.3333333333333335"
      ]
     },
     "execution_count": 7,
     "metadata": {},
     "output_type": "execute_result"
    }
   ],
   "source": [
    "# This will convert 200 minutes to hours by diving by 60\n",
    "200 / 60"
   ]
  },
  {
   "cell_type": "code",
   "execution_count": null,
   "id": "394c9d18-f3a3-438b-8d85-cab0a13a7053",
   "metadata": {},
   "outputs": [],
   "source": []
  }
 ],
 "metadata": {
  "kernelspec": {
   "display_name": "Python",
   "language": "python",
   "name": "conda-env-python-py"
  },
  "language_info": {
   "codemirror_mode": {
    "name": "ipython",
    "version": 3
   },
   "file_extension": ".py",
   "mimetype": "text/x-python",
   "name": "python",
   "nbconvert_exporter": "python",
   "pygments_lexer": "ipython3",
   "version": "3.7.12"
  }
 },
 "nbformat": 4,
 "nbformat_minor": 5
}
